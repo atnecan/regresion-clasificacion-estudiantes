{
 "cells": [
  {
   "cell_type": "code",
   "execution_count": 3,
   "id": "8e80af89",
   "metadata": {},
   "outputs": [
    {
     "name": "stdout",
     "output_type": "stream",
     "text": [
      "Forma del dataset: (1000, 11)\n"
     ]
    },
    {
     "data": {
      "text/html": [
       "<div>\n",
       "<style scoped>\n",
       "    .dataframe tbody tr th:only-of-type {\n",
       "        vertical-align: middle;\n",
       "    }\n",
       "\n",
       "    .dataframe tbody tr th {\n",
       "        vertical-align: top;\n",
       "    }\n",
       "\n",
       "    .dataframe thead th {\n",
       "        text-align: right;\n",
       "    }\n",
       "</style>\n",
       "<table border=\"1\" class=\"dataframe\">\n",
       "  <thead>\n",
       "    <tr style=\"text-align: right;\">\n",
       "      <th></th>\n",
       "      <th>horas_estudio_semanal</th>\n",
       "      <th>nota_anterior</th>\n",
       "      <th>tasa_asistencia</th>\n",
       "      <th>horas_sueno</th>\n",
       "      <th>edad</th>\n",
       "      <th>nivel_dificultad</th>\n",
       "      <th>tiene_tutor</th>\n",
       "      <th>horario_estudio_preferido</th>\n",
       "      <th>estilo_aprendizaje</th>\n",
       "      <th>nota_final</th>\n",
       "      <th>aprobado</th>\n",
       "    </tr>\n",
       "  </thead>\n",
       "  <tbody>\n",
       "    <tr>\n",
       "      <th>0</th>\n",
       "      <td>8.957476</td>\n",
       "      <td>48.830601</td>\n",
       "      <td>86.640182</td>\n",
       "      <td>6.675694</td>\n",
       "      <td>25</td>\n",
       "      <td>Fácil</td>\n",
       "      <td>Sí</td>\n",
       "      <td>Tarde</td>\n",
       "      <td>Lectura/Escritura</td>\n",
       "      <td>84.4</td>\n",
       "      <td>1</td>\n",
       "    </tr>\n",
       "    <tr>\n",
       "      <th>1</th>\n",
       "      <td>11.042524</td>\n",
       "      <td>80.825707</td>\n",
       "      <td>83.449655</td>\n",
       "      <td>4.616844</td>\n",
       "      <td>18</td>\n",
       "      <td>Difícil</td>\n",
       "      <td>No</td>\n",
       "      <td>Tarde</td>\n",
       "      <td>NaN</td>\n",
       "      <td>72.0</td>\n",
       "      <td>1</td>\n",
       "    </tr>\n",
       "    <tr>\n",
       "      <th>2</th>\n",
       "      <td>4.510776</td>\n",
       "      <td>90.383694</td>\n",
       "      <td>74.623607</td>\n",
       "      <td>7.755246</td>\n",
       "      <td>25</td>\n",
       "      <td>Fácil</td>\n",
       "      <td>No</td>\n",
       "      <td>Mañana</td>\n",
       "      <td>Lectura/Escritura</td>\n",
       "      <td>80.0</td>\n",
       "      <td>1</td>\n",
       "    </tr>\n",
       "    <tr>\n",
       "      <th>3</th>\n",
       "      <td>6.647213</td>\n",
       "      <td>81.878257</td>\n",
       "      <td>82.849841</td>\n",
       "      <td>8.592826</td>\n",
       "      <td>23</td>\n",
       "      <td>Fácil</td>\n",
       "      <td>No</td>\n",
       "      <td>NaN</td>\n",
       "      <td>Visual</td>\n",
       "      <td>78.2</td>\n",
       "      <td>1</td>\n",
       "    </tr>\n",
       "    <tr>\n",
       "      <th>4</th>\n",
       "      <td>1.000000</td>\n",
       "      <td>66.254179</td>\n",
       "      <td>54.539935</td>\n",
       "      <td>6.671840</td>\n",
       "      <td>21</td>\n",
       "      <td>Medio</td>\n",
       "      <td>No</td>\n",
       "      <td>NaN</td>\n",
       "      <td>Auditivo</td>\n",
       "      <td>66.0</td>\n",
       "      <td>1</td>\n",
       "    </tr>\n",
       "  </tbody>\n",
       "</table>\n",
       "</div>"
      ],
      "text/plain": [
       "   horas_estudio_semanal  nota_anterior  tasa_asistencia  horas_sueno  edad  \\\n",
       "0               8.957476      48.830601        86.640182     6.675694    25   \n",
       "1              11.042524      80.825707        83.449655     4.616844    18   \n",
       "2               4.510776      90.383694        74.623607     7.755246    25   \n",
       "3               6.647213      81.878257        82.849841     8.592826    23   \n",
       "4               1.000000      66.254179        54.539935     6.671840    21   \n",
       "\n",
       "  nivel_dificultad tiene_tutor horario_estudio_preferido estilo_aprendizaje  \\\n",
       "0            Fácil          Sí                     Tarde  Lectura/Escritura   \n",
       "1          Difícil          No                     Tarde                NaN   \n",
       "2            Fácil          No                    Mañana  Lectura/Escritura   \n",
       "3            Fácil          No                       NaN             Visual   \n",
       "4            Medio          No                       NaN           Auditivo   \n",
       "\n",
       "   nota_final  aprobado  \n",
       "0        84.4         1  \n",
       "1        72.0         1  \n",
       "2        80.0         1  \n",
       "3        78.2         1  \n",
       "4        66.0         1  "
      ]
     },
     "execution_count": 3,
     "metadata": {},
     "output_type": "execute_result"
    }
   ],
   "source": [
    "# Importación de librerías necesarias\n",
    "import pandas as pd\n",
    "import numpy as np\n",
    "from pathlib import Path\n",
    "\n",
    "# Ruta del dataset (ajustada a tu estructura actual)\n",
    "DATA_PATH = Path(\"../data/dataset_estudiantes.csv\")\n",
    "\n",
    "\n",
    "\n",
    "# Carga del CSV\n",
    "df = pd.read_csv(DATA_PATH)\n",
    "\n",
    "# Vista previa\n",
    "print(f\"Forma del dataset: {df.shape}\")\n",
    "df.head()\n"
   ]
  },
  {
   "cell_type": "code",
   "execution_count": 4,
   "id": "1876488f",
   "metadata": {},
   "outputs": [
    {
     "data": {
      "text/plain": [
       "aprobado\n",
       "1    89.8\n",
       "0    10.2\n",
       "Name: %, dtype: float64"
      ]
     },
     "execution_count": 4,
     "metadata": {},
     "output_type": "execute_result"
    }
   ],
   "source": [
    "# Crear 'aprobado' si no existe (1 si nota_final >= 60)\n",
    "if 'aprobado' not in df.columns and 'nota_final' in df.columns:\n",
    "    df['aprobado'] = (df['nota_final'] >= 60).astype(int)\n",
    "\n",
    "# % de aprobados/suspensos\n",
    "df['aprobado'].value_counts(normalize=True).mul(100).round(2).rename('%')\n"
   ]
  },
  {
   "cell_type": "code",
   "execution_count": 5,
   "id": "54c4b58c",
   "metadata": {},
   "outputs": [
    {
     "name": "stdout",
     "output_type": "stream",
     "text": [
      "Numéricas: ['horas_estudio_semanal', 'nota_anterior', 'tasa_asistencia', 'horas_sueno', 'edad']\n",
      "Categóricas: ['nivel_dificultad', 'tiene_tutor', 'horario_estudio_preferido', 'estilo_aprendizaje']\n"
     ]
    }
   ],
   "source": [
    "target_reg = 'nota_final'\n",
    "target_clf = 'aprobado'\n",
    "\n",
    "features = [c for c in df.columns if c not in [target_reg, target_clf]]\n",
    "\n",
    "num_cols = df[features].select_dtypes(include=['int64','float64']).columns.tolist()\n",
    "cat_cols = [c for c in features if c not in num_cols]\n",
    "\n",
    "print(\"Numéricas:\", num_cols)\n",
    "print(\"Categóricas:\", cat_cols)\n"
   ]
  },
  {
   "cell_type": "code",
   "execution_count": 6,
   "id": "fd8858f9",
   "metadata": {},
   "outputs": [
    {
     "data": {
      "text/plain": [
       "((800, 9), (200, 9))"
      ]
     },
     "execution_count": 6,
     "metadata": {},
     "output_type": "execute_result"
    }
   ],
   "source": [
    "from sklearn.model_selection import train_test_split\n",
    "\n",
    "X = df[features].copy()\n",
    "y_reg = df[target_reg].copy()\n",
    "y_clf = df[target_clf].copy()\n",
    "\n",
    "X_train, X_test, y_reg_train, y_reg_test, y_clf_train, y_clf_test = train_test_split(\n",
    "    X, y_reg, y_clf, test_size=0.2, random_state=42, stratify=y_clf\n",
    ")\n",
    "\n",
    "X_train.shape, X_test.shape\n"
   ]
  },
  {
   "cell_type": "code",
   "execution_count": 7,
   "id": "1f170277",
   "metadata": {},
   "outputs": [
    {
     "name": "stdout",
     "output_type": "stream",
     "text": [
      "Preprocesador ajustado.\n"
     ]
    }
   ],
   "source": [
    "from sklearn.compose import ColumnTransformer\n",
    "from sklearn.pipeline import Pipeline\n",
    "from sklearn.preprocessing import StandardScaler, OneHotEncoder\n",
    "from sklearn.impute import SimpleImputer\n",
    "\n",
    "numeric_transformer = Pipeline(steps=[\n",
    "    (\"imputer\", SimpleImputer(strategy=\"median\")),\n",
    "    (\"scaler\", StandardScaler())\n",
    "])\n",
    "\n",
    "categorical_transformer = Pipeline(steps=[\n",
    "    (\"imputer\", SimpleImputer(strategy=\"most_frequent\")),\n",
    "    (\"onehot\", OneHotEncoder(handle_unknown=\"ignore\", sparse_output=False))\n",
    "])\n",
    "\n",
    "preprocessor = ColumnTransformer(\n",
    "    transformers=[\n",
    "        (\"num\", numeric_transformer, num_cols),\n",
    "        (\"cat\", categorical_transformer, cat_cols),\n",
    "    ],\n",
    "    remainder=\"drop\"\n",
    ")\n",
    "\n",
    "preprocessor.fit(X_train)\n",
    "print(\"Preprocesador ajustado.\")\n"
   ]
  },
  {
   "cell_type": "code",
   "execution_count": 8,
   "id": "cebd656d",
   "metadata": {},
   "outputs": [
    {
     "data": {
      "text/plain": [
       "((800, 17), (200, 17))"
      ]
     },
     "execution_count": 8,
     "metadata": {},
     "output_type": "execute_result"
    }
   ],
   "source": [
    "X_train_proc = preprocessor.transform(X_train)\n",
    "X_test_proc  = preprocessor.transform(X_test)\n",
    "\n",
    "X_train_proc.shape, X_test_proc.shape\n"
   ]
  },
  {
   "cell_type": "code",
   "execution_count": 9,
   "id": "f349e878",
   "metadata": {},
   "outputs": [
    {
     "name": "stdout",
     "output_type": "stream",
     "text": [
      "Guardado en /modelos: preprocesador.pkl, nombres_features.csv y splits.\n"
     ]
    }
   ],
   "source": [
    "import joblib\n",
    "from pathlib import Path\n",
    "import numpy as np\n",
    "import pandas as pd\n",
    "\n",
    "MODELS_DIR = Path(\"../modelos\")\n",
    "MODELS_DIR.mkdir(parents=True, exist_ok=True)\n",
    "\n",
    "# guardar preprocesador\n",
    "joblib.dump(preprocessor, MODELS_DIR / \"preprocesador.pkl\")\n",
    "\n",
    "# nombres de columnas resultantes\n",
    "ohe = preprocessor.named_transformers_[\"cat\"].named_steps[\"onehot\"]\n",
    "ohe_features = ohe.get_feature_names_out(cat_cols)\n",
    "feature_names = np.r_[num_cols, ohe_features]\n",
    "pd.Series(feature_names, name=\"feature\").to_csv(MODELS_DIR / \"nombres_features.csv\", index=False)\n",
    "\n",
    "# guardar matrices y etiquetas (opcional pero útil)\n",
    "np.save(MODELS_DIR / \"X_train_proc.npy\", X_train_proc)\n",
    "np.save(MODELS_DIR / \"X_test_proc.npy\",  X_test_proc)\n",
    "y_reg_train.to_csv(MODELS_DIR / \"y_reg_train.csv\", index=False)\n",
    "y_reg_test.to_csv(MODELS_DIR / \"y_reg_test.csv\", index=False)\n",
    "y_clf_train.to_csv(MODELS_DIR / \"y_clf_train.csv\", index=False)\n",
    "y_clf_test.to_csv(MODELS_DIR / \"y_clf_test.csv\", index=False)\n",
    "\n",
    "print(\"Guardado en /modelos: preprocesador.pkl, nombres_features.csv y splits.\")\n"
   ]
  },
  {
   "cell_type": "code",
   "execution_count": 10,
   "id": "d79ee15d",
   "metadata": {},
   "outputs": [
    {
     "data": {
      "text/plain": [
       "(0, 0)"
      ]
     },
     "execution_count": 10,
     "metadata": {},
     "output_type": "execute_result"
    }
   ],
   "source": [
    "np.isnan(X_train_proc).sum(), np.isnan(X_test_proc).sum()\n"
   ]
  },
  {
   "cell_type": "code",
   "execution_count": null,
   "id": "a013e7ba",
   "metadata": {},
   "outputs": [],
   "source": []
  }
 ],
 "metadata": {
  "kernelspec": {
   "display_name": "base",
   "language": "python",
   "name": "python3"
  },
  "language_info": {
   "codemirror_mode": {
    "name": "ipython",
    "version": 3
   },
   "file_extension": ".py",
   "mimetype": "text/x-python",
   "name": "python",
   "nbconvert_exporter": "python",
   "pygments_lexer": "ipython3",
   "version": "3.12.7"
  }
 },
 "nbformat": 4,
 "nbformat_minor": 5
}
